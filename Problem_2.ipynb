{
 "cells": [
  {
   "cell_type": "markdown",
   "metadata": {},
   "source": [
    "# Problem 2 Length of Staying vs. Total Charges"
   ]
  },
  {
   "cell_type": "code",
   "execution_count": 1,
   "metadata": {},
   "outputs": [
    {
     "name": "stderr",
     "output_type": "stream",
     "text": [
      "/Users/michaeldu/anaconda3/lib/python3.6/site-packages/IPython/core/interactiveshell.py:2785: DtypeWarning: Columns (10) have mixed types. Specify dtype option on import or set low_memory=False.\n",
      "  interactivity=interactivity, compiler=compiler, result=result)\n"
     ]
    },
    {
     "data": {
      "text/plain": [
       "(2346760, 14)"
      ]
     },
     "execution_count": 1,
     "metadata": {},
     "output_type": "execute_result"
    }
   ],
   "source": [
    "import pandas as pd\n",
    "import numpy as np\n",
    "\n",
    "data = pd.read_csv(\"hospital.csv\")\n",
    "\n",
    "dropped = data.drop(['Operating Certificate Number', 'Facility Id', 'Zip Code - 3 digits', 'Payment Typology 2', 'Payment Typology 3', 'Attending Provider License Number', 'Operating Provider License Number', \n",
    "           'Other Provider License Number', 'Birth Weight','Ethnicity','Patient Disposition','Discharge Year','CCS Diagnosis Code','CCS Diagnosis Description','CCS Procedure Code','CCS Procedure Description','APR DRG Code','APR MDC Code',\n",
    "                    'Health Service Area', 'Hospital County', 'Type of Admission', 'Abortion Edit Indicator', 'Emergency Department Indicator'], axis = 1)\n",
    "dropped.shape"
   ]
  },
  {
   "cell_type": "code",
   "execution_count": 2,
   "metadata": {},
   "outputs": [],
   "source": [
    "MountSinai = dropped[(dropped['Facility Name'] == 'Mount Sinai Hospital')]"
   ]
  },
  {
   "cell_type": "code",
   "execution_count": 3,
   "metadata": {},
   "outputs": [],
   "source": [
    "import matplotlib.pyplot as plt\n",
    "%matplotlib inline\n",
    "from sklearn.kernel_ridge import KernelRidge\n",
    "import numpy as np\n",
    "from sklearn.model_selection import train_test_split"
   ]
  },
  {
   "cell_type": "code",
   "execution_count": 4,
   "metadata": {},
   "outputs": [
    {
     "name": "stdout",
     "output_type": "stream",
     "text": [
      "[4. 2. 8. ... 1. 1. 1.]\n"
     ]
    }
   ],
   "source": [
    "# load data, and change the data type into useabe one: \n",
    "Length = MountSinai['Length of Stay']\n",
    "Charges = MountSinai['Total Charges']\n",
    "Length = np.array(Length)\n",
    "length = []\n",
    "# modify the data to the way it can be process--> length of stay: remove the \"+\" sign \n",
    "for i in range(len(Length)):\n",
    "    if Length[i] == '120 +':\n",
    "        length.append('120')\n",
    "    else:\n",
    "        length.append(Length[i])\n",
    "l = []\n",
    "for j in range(len(length)):\n",
    "    l.append(float(length[j]))\n",
    "\n",
    "l = np.array(l)\n",
    "print(l)\n",
    "# modify the data to the way it can be process: change string into float --> length of stay: \n",
    "Charges = Charges.str.replace('$', '')\n",
    "Charges = Charges.astype(float)"
   ]
  },
  {
   "cell_type": "code",
   "execution_count": 5,
   "metadata": {},
   "outputs": [],
   "source": [
    "from datascience import *\n",
    "%matplotlib inline\n",
    "import matplotlib.pyplot as plots\n",
    "plots.style.use('fivethirtyeight')\n",
    "import math\n",
    "import numpy as np\n",
    "from scipy import stats\n",
    "\n",
    "def standard_units(any_numbers):\n",
    "    \"Convert any array of numbers to standard units.\"\n",
    "    return (any_numbers - np.mean(any_numbers))/np.std(any_numbers)\n",
    "\n",
    "def correlation(t, label_x, label_y):\n",
    "    return np.mean(standard_units(t.column(label_x))*standard_units(t.column(label_y)))\n",
    "\n",
    "def slope(t, label_x, label_y):\n",
    "    r = correlation(t, label_x, label_y)\n",
    "    return r*np.std(t.column(label_y))/np.std(t.column(label_x))\n",
    "\n",
    "def intercept(t, label_x, label_y):\n",
    "    return np.mean(t.column(label_y)) - slope(t, label_x, label_y)*np.mean(t.column(label_x))\n",
    "\n",
    "def fit(table, x, y):\n",
    "    \"\"\"Return the height of the regression line at each x value.\"\"\"\n",
    "    a = slope(table, x, y)\n",
    "    b = intercept(table, x, y)\n",
    "    return a * table.column(x) + b"
   ]
  },
  {
   "cell_type": "code",
   "execution_count": 6,
   "metadata": {},
   "outputs": [
    {
     "data": {
      "text/html": [
       "<table border=\"1\" class=\"dataframe\">\n",
       "    <thead>\n",
       "        <tr>\n",
       "            <th>X</th> <th>Y</th>\n",
       "        </tr>\n",
       "    </thead>\n",
       "    <tbody>\n",
       "        <tr>\n",
       "            <td>4   </td> <td>27415.2</td>\n",
       "        </tr>\n",
       "        <tr>\n",
       "            <td>2   </td> <td>16737.5</td>\n",
       "        </tr>\n",
       "        <tr>\n",
       "            <td>8   </td> <td>25619.5</td>\n",
       "        </tr>\n",
       "        <tr>\n",
       "            <td>1   </td> <td>7822.77</td>\n",
       "        </tr>\n",
       "        <tr>\n",
       "            <td>3   </td> <td>22801  </td>\n",
       "        </tr>\n",
       "        <tr>\n",
       "            <td>3   </td> <td>28775.5</td>\n",
       "        </tr>\n",
       "        <tr>\n",
       "            <td>2   </td> <td>15024.6</td>\n",
       "        </tr>\n",
       "        <tr>\n",
       "            <td>5   </td> <td>18333  </td>\n",
       "        </tr>\n",
       "        <tr>\n",
       "            <td>1   </td> <td>5750.66</td>\n",
       "        </tr>\n",
       "        <tr>\n",
       "            <td>2   </td> <td>16756.3</td>\n",
       "        </tr>\n",
       "        <tr>\n",
       "            <td>2   </td> <td>17820.7</td>\n",
       "        </tr>\n",
       "        <tr>\n",
       "            <td>3   </td> <td>23367.1</td>\n",
       "        </tr>\n",
       "        <tr>\n",
       "            <td>1   </td> <td>8161   </td>\n",
       "        </tr>\n",
       "        <tr>\n",
       "            <td>3   </td> <td>26858  </td>\n",
       "        </tr>\n",
       "        <tr>\n",
       "            <td>4   </td> <td>32722  </td>\n",
       "        </tr>\n",
       "        <tr>\n",
       "            <td>3   </td> <td>21654.4</td>\n",
       "        </tr>\n",
       "        <tr>\n",
       "            <td>3   </td> <td>26706.4</td>\n",
       "        </tr>\n",
       "        <tr>\n",
       "            <td>5   </td> <td>17586  </td>\n",
       "        </tr>\n",
       "        <tr>\n",
       "            <td>13  </td> <td>46606.2</td>\n",
       "        </tr>\n",
       "        <tr>\n",
       "            <td>9   </td> <td>32567.3</td>\n",
       "        </tr>\n",
       "    </tbody>\n",
       "</table>\n",
       "<p>... (55876 rows omitted)</p>"
      ],
      "text/plain": [
       "<IPython.core.display.HTML object>"
      ]
     },
     "metadata": {},
     "output_type": "display_data"
    },
    {
     "data": {
      "text/plain": [
       "Text(0,0.5,'Total charges')"
      ]
     },
     "execution_count": 6,
     "metadata": {},
     "output_type": "execute_result"
    },
    {
     "data": {
      "image/png": "[encoded data removed]",
      "text/plain": [
       "<Figure size 432x288 with 1 Axes>"
      ]
     },
     "metadata": {},
     "output_type": "display_data"
    }
   ],
   "source": [
    "# print(l)\n",
    "# print(type(l))\n",
    "# print(np.array(Charges))\n",
    "Y = np.array(Charges)\n",
    "t = Table().with_columns('X', l, 'Y', Y)\n",
    "t.show(20)\n",
    "plt.scatter(l, Charges)\n",
    "plt.plot(t.column(0), fit(t, 0, 1), lw=4, color='gold')\n",
    "plots.xlabel('Length of stay')\n",
    "plots.ylabel('Total charges')"
   ]
  },
  {
   "cell_type": "code",
   "execution_count": 7,
   "metadata": {},
   "outputs": [
    {
     "data": {
      "text/plain": [
       "0.8697378113668287"
      ]
     },
     "execution_count": 7,
     "metadata": {},
     "output_type": "execute_result"
    }
   ],
   "source": [
    "#Calculate the Correlation coefficient between two features\n",
    "correlation(t, 'X', 'Y')"
   ]
  },
  {
   "cell_type": "code",
   "execution_count": 8,
   "metadata": {},
   "outputs": [],
   "source": [
    "# Reshape features and label\n",
    "X = l\n",
    "Y = np.array(Charges)\n",
    "X = X.reshape(-1, 1)\n",
    "Y = Y.reshape(-1, 1)"
   ]
  },
  {
   "cell_type": "markdown",
   "metadata": {},
   "source": [
    "# Applying Linear Regression "
   ]
  },
  {
   "cell_type": "code",
   "execution_count": 9,
   "metadata": {},
   "outputs": [],
   "source": [
    "from sklearn.linear_model import LinearRegression\n",
    "\n",
    "X_train, X_test, Y_train, Y_test = train_test_split(X, Y, test_size=0.2,random_state=25) \n",
    "\n",
    "reg = LinearRegression().fit(X_train, Y_train)\n"
   ]
  },
  {
   "cell_type": "code",
   "execution_count": 10,
   "metadata": {},
   "outputs": [
    {
     "data": {
      "text/plain": [
       "array([[127797.91376791]])"
      ]
     },
     "execution_count": 10,
     "metadata": {},
     "output_type": "execute_result"
    }
   ],
   "source": [
    "reg.predict([[13]])"
   ]
  },
  {
   "cell_type": "code",
   "execution_count": 11,
   "metadata": {},
   "outputs": [
    {
     "data": {
      "text/plain": [
       "0.8021953468576694"
      ]
     },
     "execution_count": 11,
     "metadata": {},
     "output_type": "execute_result"
    }
   ],
   "source": [
    "from sklearn.metrics import average_precision_score\n",
    "reg.score(X_test, Y_test)"
   ]
  }
 ],
 "metadata": {
  "kernelspec": {
   "display_name": "Python 3",
   "language": "python",
   "name": "python3"
  },
  "language_info": {
   "codemirror_mode": {
    "name": "ipython",
    "version": 3
   },
   "file_extension": ".py",
   "mimetype": "text/x-python",
   "name": "python",
   "nbconvert_exporter": "python",
   "pygments_lexer": "ipython3",
   "version": "3.6.5"
  }
 },
 "nbformat": 4,
 "nbformat_minor": 2
}
