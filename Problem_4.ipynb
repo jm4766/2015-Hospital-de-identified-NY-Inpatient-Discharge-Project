{
 "cells": [
  {
   "cell_type": "markdown",
   "metadata": {},
   "source": [
    "# Problem 4 Medicaid & Medicare"
   ]
  },
  {
   "cell_type": "code",
   "execution_count": 1,
   "metadata": {},
   "outputs": [
    {
     "name": "stderr",
     "output_type": "stream",
     "text": [
      "/Users/michaeldu/anaconda3/lib/python3.6/site-packages/IPython/core/interactiveshell.py:2785: DtypeWarning: Columns (10) have mixed types. Specify dtype option on import or set low_memory=False.\n",
      "  interactivity=interactivity, compiler=compiler, result=result)\n"
     ]
    },
    {
     "data": {
      "text/plain": [
       "(2346760, 14)"
      ]
     },
     "execution_count": 1,
     "metadata": {},
     "output_type": "execute_result"
    }
   ],
   "source": [
    "import pandas as pd\n",
    "import numpy as np\n",
    "\n",
    "data = pd.read_csv(\"hospital.csv\")\n",
    "\n",
    "dropped = data.drop(['Operating Certificate Number', 'Facility Id', 'Zip Code - 3 digits', 'Payment Typology 2', 'Payment Typology 3', 'Attending Provider License Number', 'Operating Provider License Number', \n",
    "           'Other Provider License Number', 'Birth Weight','Ethnicity','Patient Disposition','Discharge Year','CCS Diagnosis Code','CCS Diagnosis Description','CCS Procedure Code','CCS Procedure Description','APR DRG Code','APR MDC Code',\n",
    "                    'Health Service Area', 'Hospital County', 'Type of Admission', 'Abortion Edit Indicator', 'Emergency Department Indicator'], axis = 1)\n",
    "dropped.shape"
   ]
  },
  {
   "cell_type": "code",
   "execution_count": 2,
   "metadata": {},
   "outputs": [],
   "source": [
    "MountSinai = dropped[(dropped['Facility Name'] == 'Mount Sinai Hospital')]"
   ]
  },
  {
   "cell_type": "code",
   "execution_count": 3,
   "metadata": {},
   "outputs": [
    {
     "name": "stdout",
     "output_type": "stream",
     "text": [
      "Medicaid Payment: 14830 Medicare Payment: 18198 Other Payment Method: 22868\n",
      "Total Charges Through Medicaid: $ 824348946.0200319 \n",
      "Total Charges Through Medicare: $ 1300676561.5699985 \n",
      "Total Charges Through Other Payments: $ 1017369547.3802004\n",
      "All Charges Through The Year: $ 3142395054.970231\n",
      "Percentage of Medicaid Users Among All Insurance Types: 0.2653141548590239\n",
      "Percentage of Medicare Users Among All Insurance Types: 0.3255689136968656\n"
     ]
    },
    {
     "data": {
      "text/plain": [
       "Text(0,0.5,'Amount')"
      ]
     },
     "execution_count": 3,
     "metadata": {},
     "output_type": "execute_result"
    },
    {
     "data": {
      "image/png": "[encoded data removed]",
      "text/plain": [
       "<Figure size 432x288 with 1 Axes>"
      ]
     },
     "metadata": {},
     "output_type": "display_data"
    },
    {
     "data": {
      "image/png": "[encoded data removed]",
      "text/plain": [
       "<Figure size 432x288 with 1 Axes>"
      ]
     },
     "metadata": {},
     "output_type": "display_data"
    }
   ],
   "source": [
    "import matplotlib.pyplot as plt\n",
    "%matplotlib inline\n",
    "\n",
    "payment = MountSinai['Payment Typology 1']\n",
    "charges = MountSinai['Total Charges'].str.replace('$', '').astype(float)\n",
    "payment = np.array(payment)\n",
    "charges = np.array(charges)\n",
    "\n",
    "Medicaid_amount = 0\n",
    "Medicaid_charges = 0\n",
    "Medicare_amount = 0\n",
    "Medicare_charges = 0\n",
    "Others = 0\n",
    "Others_charges = 0\n",
    "for i in range(len(payment)):\n",
    "    if payment[i] == 'Medicaid':\n",
    "        Medicaid_amount += 1\n",
    "        Medicaid_charges += charges[i]\n",
    "    elif payment[i] == 'Medicare':\n",
    "        Medicare_amount += 1\n",
    "        Medicare_charges += charges[i]\n",
    "    elif payment[i] != 'Medicaid' and payment[i] != 'Medicare':\n",
    "        Others += 1\n",
    "        Others_charges += charges[i]\n",
    "\n",
    "print('Medicaid Payment:', Medicaid_amount, 'Medicare Payment:', Medicare_amount, 'Other Payment Method:', Others)\n",
    "print('Total Charges Through Medicaid: $', Medicaid_charges, '\\nTotal Charges Through Medicare: $', Medicare_charges, '\\nTotal Charges Through Other Payments: $', Others_charges)\n",
    "print('All Charges Through The Year: $', Medicaid_charges + Medicare_charges + Others_charges)\n",
    "print('Percentage of Medicaid Users Among All Insurance Types:', Medicaid_amount/(Medicaid_amount+Medicare_amount+Others))\n",
    "print('Percentage of Medicare Users Among All Insurance Types:', Medicare_amount/(Medicaid_amount+Medicare_amount+Others))\n",
    "\n",
    "# Should probably use the pandas methond to do this problem because its about tables\n",
    "\n",
    "xaxis = ['Medicaid', 'Medicare', 'Others']\n",
    "yaxis = [Medicaid_charges, Medicare_charges, Others_charges]\n",
    "yaxis1 = [Medicaid_amount, Medicare_amount, Others]\n",
    "plt.figure(1)\n",
    "plt.bar(xaxis, yaxis)\n",
    "plt.title('Charges of Payment Types vs. Payment Types')\n",
    "plt.ylabel('Dollars')\n",
    "plt.figure(2)\n",
    "plt.bar(xaxis, yaxis1)\n",
    "plt.title('Amount of Usage For Different Payment Types vs. Payment Types')\n",
    "plt.ylabel('Amount')"
   ]
  },
  {
   "cell_type": "markdown",
   "metadata": {},
   "source": [
    "As we can see from the bar charts above, the least amount of payment type that has been used in the hospital is actually Medicaid, and follow by Medicare and other insurance payement methods. However, for the charges of using these payment types, Medicare generated the most of the charges among Medicaid and other payement types. Medicaid still is the lowest in the charges comparison. We first conclude that Medicare has more usage than Medicaid and the charges of using Medicare is much higher than the charges of using Medicaid. Since Medicare is more about providing medical services for senior citzens and disabled, it is reasonable that the charges are the highest because their diagnosis might be more serious and more expensive treaments are needed."
   ]
  }
 ],
 "metadata": {
  "kernelspec": {
   "display_name": "Python 3",
   "language": "python",
   "name": "python3"
  },
  "language_info": {
   "codemirror_mode": {
    "name": "ipython",
    "version": 3
   },
   "file_extension": ".py",
   "mimetype": "text/x-python",
   "name": "python",
   "nbconvert_exporter": "python",
   "pygments_lexer": "ipython3",
   "version": "3.6.5"
  }
 },
 "nbformat": 4,
 "nbformat_minor": 2
}
